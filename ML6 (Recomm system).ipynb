{
 "cells": [
  {
   "cell_type": "code",
   "execution_count": null,
   "id": "1e989813",
   "metadata": {},
   "outputs": [],
   "source": [
    "# singular value decomposition \n",
    "# eigen value and function \n",
    "# surprise "
   ]
  },
  {
   "cell_type": "code",
   "execution_count": null,
   "id": "58564448",
   "metadata": {},
   "outputs": [],
   "source": [
    "pip install scikit-surprise"
   ]
  },
  {
   "cell_type": "code",
   "execution_count": null,
   "id": "2e74a9f0",
   "metadata": {},
   "outputs": [],
   "source": [
    "import numpy as np \n",
    "import pandas as pd \n",
    "import seaborn as sns\n",
    "from matplotlib import pyplot as plt\n",
    "from surprise import accuracy"
   ]
  },
  {
   "cell_type": "code",
   "execution_count": null,
   "id": "e64f3d10",
   "metadata": {},
   "outputs": [],
   "source": [
    "from surprise import SVD, Dataset, Reader\n",
    "from surprise.model_selection import cross_validate,train_test_split\n",
    "from collections import defaultdict #it gives the output in form of dictionary when there is a large dataset"
   ]
  },
  {
   "cell_type": "code",
   "execution_count": null,
   "id": "fd57c98d",
   "metadata": {},
   "outputs": [],
   "source": [
    "movies=pd.read_csv('C:/Users/Administrator/Downloads/archive (2)/movies_metadata.csv',low_memory=False)\n",
    "ratings=pd.read_csv('C:/Users/Administrator/Downloads/archive (2)/ratings_small.csv')\n",
    "movies"
   ]
  },
  {
   "cell_type": "code",
   "execution_count": null,
   "id": "a1d2cb47",
   "metadata": {},
   "outputs": [],
   "source": [
    "ratings"
   ]
  },
  {
   "cell_type": "code",
   "execution_count": null,
   "id": "1079576d",
   "metadata": {},
   "outputs": [],
   "source": [
    "movies.columns"
   ]
  },
  {
   "cell_type": "code",
   "execution_count": null,
   "id": "fd50d800",
   "metadata": {},
   "outputs": [],
   "source": [
    "movies.info"
   ]
  },
  {
   "cell_type": "code",
   "execution_count": null,
   "id": "25859d68",
   "metadata": {},
   "outputs": [],
   "source": [
    "movies['id'].dtype"
   ]
  },
  {
   "cell_type": "code",
   "execution_count": null,
   "id": "14e3c753",
   "metadata": {},
   "outputs": [],
   "source": [
    "ratings['movieId'].dtype"
   ]
  },
  {
   "cell_type": "code",
   "execution_count": null,
   "id": "6ca85473",
   "metadata": {},
   "outputs": [],
   "source": [
    "movies['id']=movies['id'].astype(str)\n",
    "ratings['movieId']=ratings['movieId'].astype(str)"
   ]
  },
  {
   "cell_type": "code",
   "execution_count": null,
   "id": "f0764dd0",
   "metadata": {},
   "outputs": [],
   "source": [
    "#data cleaning \n",
    "movies['id']=pd.to_numeric(movies['id'],errors='coerce')\n",
    "movies['id']"
   ]
  },
  {
   "cell_type": "code",
   "execution_count": null,
   "id": "d612ed50",
   "metadata": {},
   "outputs": [],
   "source": [
    "movies['id'].isnull().sum() #in this output there are there value still who are no numericwhich cause error\n",
    "#other than 3 all value are numeric or nan "
   ]
  },
  {
   "cell_type": "code",
   "execution_count": null,
   "id": "3fc369f1",
   "metadata": {},
   "outputs": [],
   "source": [
    "movies['id']=movies['id'].fillna(0)\n",
    "movies['id'].isnull().sum() #now remaning three has turn into numerical value"
   ]
  },
  {
   "cell_type": "code",
   "execution_count": null,
   "id": "d1a96b66",
   "metadata": {},
   "outputs": [],
   "source": [
    "movies['id'].dtype"
   ]
  },
  {
   "cell_type": "code",
   "execution_count": null,
   "id": "e2aad220",
   "metadata": {},
   "outputs": [],
   "source": [
    "movies['id']=movies['id'].astype(int).astype(str)\n",
    "movies['id'] #now all data is in object type"
   ]
  },
  {
   "cell_type": "code",
   "execution_count": null,
   "id": "bc01ff66",
   "metadata": {},
   "outputs": [],
   "source": [
    "ratings['movieId']=pd.to_numeric(ratings['movieId'],errors=\"coerce\")\n",
    "ratings['movieId'].isnull().sum()"
   ]
  },
  {
   "cell_type": "code",
   "execution_count": null,
   "id": "6dd2c0bd",
   "metadata": {},
   "outputs": [],
   "source": [
    "ratings['movieId']=ratings['movieId'].astype(str)\n",
    "ratings['movieId']"
   ]
  },
  {
   "cell_type": "code",
   "execution_count": null,
   "id": "47883f52",
   "metadata": {},
   "outputs": [],
   "source": [
    "#merging of two specific columns of dataset\n",
    "merge_data=pd.merge(movies,ratings,left_on='id',right_on='movieId')\n",
    "merge_data\n"
   ]
  },
  {
   "cell_type": "code",
   "execution_count": null,
   "id": "d3a9aee9",
   "metadata": {},
   "outputs": [],
   "source": [
    "data_ratings=merge_data[[\"userId\",\"movieId\",\"rating\"]]\n",
    "data_ratings"
   ]
  },
  {
   "cell_type": "code",
   "execution_count": null,
   "id": "7515b147",
   "metadata": {},
   "outputs": [],
   "source": [
    "data_reader=Reader(rating_scale=(0.5,5))\n",
    "dataset=Dataset.load_from_df(data_ratings[[\"userId\",'movieId','rating']],data_reader)\n",
    "dataset"
   ]
  },
  {
   "cell_type": "code",
   "execution_count": null,
   "id": "d941fc8c",
   "metadata": {},
   "outputs": [],
   "source": [
    "trainset,testset=train_test_split(dataset,test_size=0.3,random_state=20)\n",
    "svd_model=SVD()\n",
    "svd_model.fit(trainset)"
   ]
  },
  {
   "cell_type": "code",
   "execution_count": null,
   "id": "a00f45bb",
   "metadata": {},
   "outputs": [],
   "source": [
    "prediction=svd_model.test(testset)\n",
    "prediction"
   ]
  },
  {
   "cell_type": "code",
   "execution_count": null,
   "id": "7b8f44c0",
   "metadata": {},
   "outputs": [],
   "source": [
    "accuracy=accuracy.rmse(prediction)\n",
    "accuracy"
   ]
  },
  {
   "cell_type": "code",
   "execution_count": null,
   "id": "f34b0d0a",
   "metadata": {},
   "outputs": [],
   "source": [
    "def get_top_n(prediction,n):\n",
    "    top_n=defaultdict(list)\n",
    "    for uid,iid,true_rating,est_rating,_ in prediction:\n",
    "        top_n[uid].append((uid,iid,true_rating,est_rating))\n",
    "    for uid,actual_user_rating in top_n.items():\n",
    "        actual_user_rating.sort(key=lambda x:x[1],reverse=True)\n",
    "        top_n[uid]=actual_user_rating[:n]\n",
    "    return top_n"
   ]
  },
  {
   "cell_type": "code",
   "execution_count": null,
   "id": "487eeef6",
   "metadata": {},
   "outputs": [],
   "source": [
    "get_top_n(prediction,5)"
   ]
  },
  {
   "cell_type": "code",
   "execution_count": null,
   "id": "57ba5b83",
   "metadata": {},
   "outputs": [],
   "source": []
  },
  {
   "cell_type": "code",
   "execution_count": null,
   "id": "0bfaa4c0",
   "metadata": {},
   "outputs": [],
   "source": []
  },
  {
   "cell_type": "code",
   "execution_count": null,
   "id": "b07dbc15",
   "metadata": {},
   "outputs": [],
   "source": []
  }
 ],
 "metadata": {
  "kernelspec": {
   "display_name": "Python 3 (ipykernel)",
   "language": "python",
   "name": "python3"
  },
  "language_info": {
   "codemirror_mode": {
    "name": "ipython",
    "version": 3
   },
   "file_extension": ".py",
   "mimetype": "text/x-python",
   "name": "python",
   "nbconvert_exporter": "python",
   "pygments_lexer": "ipython3",
   "version": "3.11.7"
  }
 },
 "nbformat": 4,
 "nbformat_minor": 5
}
